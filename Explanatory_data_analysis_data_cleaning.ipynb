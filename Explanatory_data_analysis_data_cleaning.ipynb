{
  "nbformat": 4,
  "nbformat_minor": 0,
  "metadata": {
    "colab": {
      "name": "Explanatory data analysis data cleaning",
      "provenance": [],
      "collapsed_sections": [],
      "authorship_tag": "ABX9TyMn6NdPY3UXWM3E5ZUwyGtf",
      "include_colab_link": true
    },
    "kernelspec": {
      "name": "python3",
      "display_name": "Python 3"
    }
  },
  "cells": [
    {
      "cell_type": "markdown",
      "metadata": {
        "id": "view-in-github",
        "colab_type": "text"
      },
      "source": [
        "<a href=\"https://colab.research.google.com/github/Rommanahad/Web-scraping-and-EDA/blob/main/Explanatory_data_analysis_data_cleaning.ipynb\" target=\"_parent\"><img src=\"https://colab.research.google.com/assets/colab-badge.svg\" alt=\"Open In Colab\"/></a>"
      ]
    },
    {
      "cell_type": "code",
      "metadata": {
        "id": "vbDs6hQ96kmK"
      },
      "source": [
        "#importing relevant modules\n",
        "from bs4 import BeautifulSoup as bs\n",
        "import requests\n",
        "import pandas as pd"
      ],
      "execution_count": null,
      "outputs": []
    },
    {
      "cell_type": "code",
      "metadata": {
        "id": "qyronJYP6mG2"
      },
      "source": [
        " y=['Average temperature','Average humidity','Average dewpoint','Average barometer','Average windspeed', 'Average gustspeed', 'Average direction',\n",
        "   'Rainfall for month','Rainfall for year','Maximum rain per minute',\n",
        "   'Maximum temperature','Minimum temperature','Maximum humidity','Minimum humidity',\n",
        "   'Maximum pressure','Minimum pressure','Maximum windspeed','Maximum gust speed'\n",
        "    ,'Maximum heat index']\n",
        "list_of_dataframe=[]\n",
        "\n",
        "dates=[201901,201902,201903,201904,201905,201906,201907,201908,201909,201910,201911,201912]\n",
        "\n",
        "for date in dates:\n",
        "    url=\"http://www.estesparkweather.net/archive_reports.php?date=\"+str(date)\n",
        "    soup=bs(requests.get(url).content)\n",
        "    all_columns=soup.find('table').find_all('td')\n",
        "    columns=[c.string for c in all_columns]\n",
        "    final_columns=[] \n",
        "    for x in y:\n",
        "        R=[k for k in columns if  x  in k]\n",
        "        final_columns=final_columns+R\n",
        "    \n",
        "    rows= [x for x in columns if x not in final_columns]\n",
        "    final_rows=rows[1:]\n",
        "    \n",
        "    all_tables=soup.find_all('table')\n",
        "    g=[p.find_all('td') for p in all_tables]\n",
        "    all_rows= [[x for x in y if x not in final_columns] for y in rows]\n",
        "    rows =[[k.string for k in L] for L in g]\n",
        "    all_rows= [[x for x in y if x not in final_columns] for y in rows]\n",
        "    \n",
        "    if date == 201912:\n",
        "        dataframe=pd.DataFrame(all_rows[:-10],columns=['date']+final_columns)\n",
        "    else:\n",
        "        dataframe=pd.DataFrame(all_rows[:-9],columns=['date']+final_columns)\n",
        "    dataframe['date'] =dataframe['date'].str.strip(\"Average and Extremes\")\n",
        "    dataframe['date'] =dataframe['date'].add(\" 2019\")\n",
        "\n",
        "    list_of_dataframe.append(dataframe)"
      ],
      "execution_count": null,
      "outputs": []
    },
    {
      "cell_type": "code",
      "metadata": {
        "id": "rznOStSm6ydk"
      },
      "source": [
        "weather_2019= pd.concat(list_of_dataframe)\n",
        "weather_2019=weather_2019.reset_index(drop=True)"
      ],
      "execution_count": null,
      "outputs": []
    },
    {
      "cell_type": "code",
      "metadata": {
        "id": "B9kauQpk60Yb",
        "outputId": "0f31eac0-a9be-410d-f918-57ac600a438f",
        "colab": {
          "base_uri": "https://localhost:8080/",
          "height": 858
        }
      },
      "source": [
        "weather_2019.head()"
      ],
      "execution_count": null,
      "outputs": [
        {
          "output_type": "execute_result",
          "data": {
            "text/html": [
              "<div>\n",
              "<style scoped>\n",
              "    .dataframe tbody tr th:only-of-type {\n",
              "        vertical-align: middle;\n",
              "    }\n",
              "\n",
              "    .dataframe tbody tr th {\n",
              "        vertical-align: top;\n",
              "    }\n",
              "\n",
              "    .dataframe thead th {\n",
              "        text-align: right;\n",
              "    }\n",
              "</style>\n",
              "<table border=\"1\" class=\"dataframe\">\n",
              "  <thead>\n",
              "    <tr style=\"text-align: right;\">\n",
              "      <th></th>\n",
              "      <th>date</th>\n",
              "      <th>Average temperature</th>\n",
              "      <th>Average humidity</th>\n",
              "      <th>Average dewpoint</th>\n",
              "      <th>Average barometer</th>\n",
              "      <th>Average windspeed</th>\n",
              "      <th>Average gustspeed</th>\n",
              "      <th>Average direction</th>\n",
              "      <th>Rainfall for month</th>\n",
              "      <th>Rainfall for year</th>\n",
              "      <th>Maximum rain per minute</th>\n",
              "      <th>Maximum temperature</th>\n",
              "      <th>Minimum temperature</th>\n",
              "      <th>Maximum humidity</th>\n",
              "      <th>Minimum humidity</th>\n",
              "      <th>Maximum pressure</th>\n",
              "      <th>Minimum pressure</th>\n",
              "      <th>Maximum windspeed</th>\n",
              "      <th>Maximum gust speed</th>\n",
              "      <th>Maximum heat index</th>\n",
              "    </tr>\n",
              "  </thead>\n",
              "  <tbody>\n",
              "    <tr>\n",
              "      <th>0</th>\n",
              "      <td>Jan 1 2019</td>\n",
              "      <td>2.4°F</td>\n",
              "      <td>67%</td>\n",
              "      <td>-6.5°F</td>\n",
              "      <td>30.4 in.</td>\n",
              "      <td>0.2 mph</td>\n",
              "      <td>0.4 mph</td>\n",
              "      <td>283° (WNW)</td>\n",
              "      <td>0.01 in.</td>\n",
              "      <td>0.01 in.</td>\n",
              "      <td>0.01 in. on day 01 at time 12:23</td>\n",
              "      <td>20.2°F on day 01 at time 14:53</td>\n",
              "      <td>-11.0°F on day 01 at time 05:51</td>\n",
              "      <td>79% on day 01 at time 23:36</td>\n",
              "      <td>47% on day 01 at time 15:13</td>\n",
              "      <td>30.575 in. on day 01 at time 08:01</td>\n",
              "      <td>30.227 in. on day 01 at time 13:00</td>\n",
              "      <td>4.6 mph on day 01 at time 16:10</td>\n",
              "      <td>6.9 mph  from 281 °( W ) on day 01 at time 15:55</td>\n",
              "      <td>20.0°F on day 01 at time 14:53</td>\n",
              "    </tr>\n",
              "    <tr>\n",
              "      <th>1</th>\n",
              "      <td>Jan 2 2019</td>\n",
              "      <td>13.7°F</td>\n",
              "      <td>57%</td>\n",
              "      <td>-0.8°F</td>\n",
              "      <td>30.3 in.</td>\n",
              "      <td>0.4 mph</td>\n",
              "      <td>0.7 mph</td>\n",
              "      <td>283° (WNW)</td>\n",
              "      <td>0.02 in.</td>\n",
              "      <td>0.02 in.</td>\n",
              "      <td>0.01 in. on day 02 at time 11:03</td>\n",
              "      <td>41.3°F on day 02 at time 13:26</td>\n",
              "      <td>-5.9°F on day 02 at time 06:45</td>\n",
              "      <td>77% on day 02 at time 08:37</td>\n",
              "      <td>20% on day 02 at time 15:26</td>\n",
              "      <td>30.575 in. on day 02 at time 07:55</td>\n",
              "      <td>30.054 in. on day 02 at time 13:17</td>\n",
              "      <td>8.1 mph on day 02 at time 14:53</td>\n",
              "      <td>11.5 mph  from 281 °( W ) on day 02 at time 1...</td>\n",
              "      <td>41.3°F on day 02 at time 13:26</td>\n",
              "    </tr>\n",
              "    <tr>\n",
              "      <th>2</th>\n",
              "      <td>Jan 3 2019</td>\n",
              "      <td>31.9°F</td>\n",
              "      <td>45%</td>\n",
              "      <td>10.0°F</td>\n",
              "      <td>30.0 in.</td>\n",
              "      <td>3.3 mph</td>\n",
              "      <td>5.1 mph</td>\n",
              "      <td>283° (WNW)</td>\n",
              "      <td>0.02 in.</td>\n",
              "      <td>0.02 in.</td>\n",
              "      <td>0.00 in. on day 03 at time 23:59</td>\n",
              "      <td>54.2°F on day 03 at time 14:31</td>\n",
              "      <td>5.8°F on day 03 at time 04:10</td>\n",
              "      <td>80% on day 03 at time 05:54</td>\n",
              "      <td>19% on day 03 at time 14:34</td>\n",
              "      <td>30.248 in. on day 03 at time 05:12</td>\n",
              "      <td>29.735 in. on day 03 at time 23:47</td>\n",
              "      <td>16.1 mph on day 03 at time 23:57</td>\n",
              "      <td>24.2 mph  from 283 °(WNW) on day 03 at time 2...</td>\n",
              "      <td>54.2°F on day 03 at time 14:31</td>\n",
              "    </tr>\n",
              "    <tr>\n",
              "      <th>3</th>\n",
              "      <td>Jan 4 2019</td>\n",
              "      <td>44.0°F</td>\n",
              "      <td>24%</td>\n",
              "      <td>9.1°F</td>\n",
              "      <td>29.8 in.</td>\n",
              "      <td>10.0 mph</td>\n",
              "      <td>13.8 mph</td>\n",
              "      <td>282° (WNW)</td>\n",
              "      <td>0.02 in.</td>\n",
              "      <td>0.02 in.</td>\n",
              "      <td>0.00 in. on day 04 at time 23:59</td>\n",
              "      <td>55.1°F on day 04 at time 12:58</td>\n",
              "      <td>34.6°F on day 04 at time 23:50</td>\n",
              "      <td>35% on day 04 at time 23:53</td>\n",
              "      <td>15% on day 04 at time 12:02</td>\n",
              "      <td>29.909 in. on day 04 at time 07:56</td>\n",
              "      <td>29.647 in. on day 04 at time 01:43</td>\n",
              "      <td>27.6 mph on day 04 at time 01:43</td>\n",
              "      <td>34.5 mph  from 284 °(WNW) on day 04 at time 0...</td>\n",
              "      <td>55.1°F on day 04 at time 12:58</td>\n",
              "    </tr>\n",
              "    <tr>\n",
              "      <th>4</th>\n",
              "      <td>Jan 5 2019</td>\n",
              "      <td>43.7°F</td>\n",
              "      <td>25%</td>\n",
              "      <td>7.9°F</td>\n",
              "      <td>29.8 in.</td>\n",
              "      <td>6.4 mph</td>\n",
              "      <td>9.4 mph</td>\n",
              "      <td>283° (WNW)</td>\n",
              "      <td>0.02 in.</td>\n",
              "      <td>0.02 in.</td>\n",
              "      <td>0.00 in. on day 05 at time 23:59</td>\n",
              "      <td>54.5°F on day 05 at time 13:03</td>\n",
              "      <td>32.4°F on day 05 at time 23:04</td>\n",
              "      <td>49% on day 05 at time 23:18</td>\n",
              "      <td>11% on day 05 at time 14:29</td>\n",
              "      <td>29.846 in. on day 05 at time 07:50</td>\n",
              "      <td>29.626 in. on day 05 at time 23:51</td>\n",
              "      <td>26.5 mph on day 05 at time 04:14</td>\n",
              "      <td>31.1 mph  from 283 °(WNW) on day 05 at time 0...</td>\n",
              "      <td>54.5°F on day 05 at time 13:03</td>\n",
              "    </tr>\n",
              "  </tbody>\n",
              "</table>\n",
              "</div>"
            ],
            "text/plain": [
              "         date  ...               Maximum heat index\n",
              "0  Jan 1 2019  ...   20.0°F on day 01 at time 14:53\n",
              "1  Jan 2 2019  ...   41.3°F on day 02 at time 13:26\n",
              "2  Jan 3 2019  ...   54.2°F on day 03 at time 14:31\n",
              "3  Jan 4 2019  ...   55.1°F on day 04 at time 12:58\n",
              "4  Jan 5 2019  ...   54.5°F on day 05 at time 13:03\n",
              "\n",
              "[5 rows x 20 columns]"
            ]
          },
          "metadata": {
            "tags": []
          },
          "execution_count": 4
        }
      ]
    },
    {
      "cell_type": "code",
      "metadata": {
        "id": "b--Oy89o63w-",
        "outputId": "d8d9b7a8-504a-4618-8863-e5989d708cd7",
        "colab": {
          "base_uri": "https://localhost:8080/",
          "height": 482
        }
      },
      "source": [
        "weather_2019.info()"
      ],
      "execution_count": null,
      "outputs": [
        {
          "output_type": "stream",
          "text": [
            "<class 'pandas.core.frame.DataFrame'>\n",
            "RangeIndex: 359 entries, 0 to 358\n",
            "Data columns (total 20 columns):\n",
            " #   Column                   Non-Null Count  Dtype \n",
            "---  ------                   --------------  ----- \n",
            " 0   date                     359 non-null    object\n",
            " 1   Average temperature      359 non-null    object\n",
            " 2   Average humidity         359 non-null    object\n",
            " 3   Average dewpoint         359 non-null    object\n",
            " 4   Average barometer        359 non-null    object\n",
            " 5   Average windspeed        359 non-null    object\n",
            " 6   Average gustspeed        359 non-null    object\n",
            " 7   Average direction        359 non-null    object\n",
            " 8   Rainfall for month       359 non-null    object\n",
            " 9   Rainfall for year        359 non-null    object\n",
            " 10  Maximum rain per minute  359 non-null    object\n",
            " 11  Maximum temperature      359 non-null    object\n",
            " 12  Minimum temperature      359 non-null    object\n",
            " 13  Maximum humidity         359 non-null    object\n",
            " 14  Minimum humidity         359 non-null    object\n",
            " 15  Maximum pressure         359 non-null    object\n",
            " 16  Minimum pressure         359 non-null    object\n",
            " 17  Maximum windspeed        359 non-null    object\n",
            " 18  Maximum gust speed       359 non-null    object\n",
            " 19  Maximum heat index       359 non-null    object\n",
            "dtypes: object(20)\n",
            "memory usage: 56.2+ KB\n"
          ],
          "name": "stdout"
        }
      ]
    },
    {
      "cell_type": "code",
      "metadata": {
        "id": "Jh0FX_4NOYxb"
      },
      "source": [
        "pd.set_option(\"display.max_rows\", None, \"display.max_columns\", None)\n",
        "\n"
      ],
      "execution_count": null,
      "outputs": []
    },
    {
      "cell_type": "code",
      "metadata": {
        "id": "DxyvujnJOrfq"
      },
      "source": [
        "## Remove unwanted colomns\n",
        "\n",
        "weather_2019 = weather_2019.drop(['Rainfall for month', 'Rainfall for year',\n",
        "       'Maximum rain per minute', 'Maximum temperature', 'Minimum temperature',\n",
        "       'Maximum humidity', 'Minimum humidity', 'Maximum pressure',\n",
        "       'Minimum pressure', 'Maximum windspeed', 'Maximum gust speed',\n",
        "       'Maximum heat index','Average direction'], axis=1)"
      ],
      "execution_count": null,
      "outputs": []
    },
    {
      "cell_type": "code",
      "metadata": {
        "id": "Zmg5aqvQPjYQ",
        "outputId": "f108576c-cc86-47d9-d7d5-97bbce328a93",
        "colab": {
          "base_uri": "https://localhost:8080/",
          "height": 201
        }
      },
      "source": [
        "weather_2019.head()"
      ],
      "execution_count": null,
      "outputs": [
        {
          "output_type": "execute_result",
          "data": {
            "text/html": [
              "<div>\n",
              "<style scoped>\n",
              "    .dataframe tbody tr th:only-of-type {\n",
              "        vertical-align: middle;\n",
              "    }\n",
              "\n",
              "    .dataframe tbody tr th {\n",
              "        vertical-align: top;\n",
              "    }\n",
              "\n",
              "    .dataframe thead th {\n",
              "        text-align: right;\n",
              "    }\n",
              "</style>\n",
              "<table border=\"1\" class=\"dataframe\">\n",
              "  <thead>\n",
              "    <tr style=\"text-align: right;\">\n",
              "      <th></th>\n",
              "      <th>date</th>\n",
              "      <th>Average temperature</th>\n",
              "      <th>Average humidity</th>\n",
              "      <th>Average dewpoint</th>\n",
              "      <th>Average barometer</th>\n",
              "      <th>Average windspeed</th>\n",
              "      <th>Average gustspeed</th>\n",
              "    </tr>\n",
              "  </thead>\n",
              "  <tbody>\n",
              "    <tr>\n",
              "      <th>0</th>\n",
              "      <td>Jan 1 2019</td>\n",
              "      <td>2.4°F</td>\n",
              "      <td>67%</td>\n",
              "      <td>-6.5°F</td>\n",
              "      <td>30.4 in.</td>\n",
              "      <td>0.2 mph</td>\n",
              "      <td>0.4 mph</td>\n",
              "    </tr>\n",
              "    <tr>\n",
              "      <th>1</th>\n",
              "      <td>Jan 2 2019</td>\n",
              "      <td>13.7°F</td>\n",
              "      <td>57%</td>\n",
              "      <td>-0.8°F</td>\n",
              "      <td>30.3 in.</td>\n",
              "      <td>0.4 mph</td>\n",
              "      <td>0.7 mph</td>\n",
              "    </tr>\n",
              "    <tr>\n",
              "      <th>2</th>\n",
              "      <td>Jan 3 2019</td>\n",
              "      <td>31.9°F</td>\n",
              "      <td>45%</td>\n",
              "      <td>10.0°F</td>\n",
              "      <td>30.0 in.</td>\n",
              "      <td>3.3 mph</td>\n",
              "      <td>5.1 mph</td>\n",
              "    </tr>\n",
              "    <tr>\n",
              "      <th>3</th>\n",
              "      <td>Jan 4 2019</td>\n",
              "      <td>44.0°F</td>\n",
              "      <td>24%</td>\n",
              "      <td>9.1°F</td>\n",
              "      <td>29.8 in.</td>\n",
              "      <td>10.0 mph</td>\n",
              "      <td>13.8 mph</td>\n",
              "    </tr>\n",
              "    <tr>\n",
              "      <th>4</th>\n",
              "      <td>Jan 5 2019</td>\n",
              "      <td>43.7°F</td>\n",
              "      <td>25%</td>\n",
              "      <td>7.9°F</td>\n",
              "      <td>29.8 in.</td>\n",
              "      <td>6.4 mph</td>\n",
              "      <td>9.4 mph</td>\n",
              "    </tr>\n",
              "  </tbody>\n",
              "</table>\n",
              "</div>"
            ],
            "text/plain": [
              "         date Average temperature Average humidity Average dewpoint  \\\n",
              "0  Jan 1 2019               2.4°F              67%           -6.5°F   \n",
              "1  Jan 2 2019              13.7°F              57%           -0.8°F   \n",
              "2  Jan 3 2019              31.9°F              45%           10.0°F   \n",
              "3  Jan 4 2019              44.0°F              24%            9.1°F   \n",
              "4  Jan 5 2019              43.7°F              25%            7.9°F   \n",
              "\n",
              "  Average barometer Average windspeed Average gustspeed  \n",
              "0          30.4 in.           0.2 mph           0.4 mph  \n",
              "1          30.3 in.           0.4 mph           0.7 mph  \n",
              "2          30.0 in.           3.3 mph           5.1 mph  \n",
              "3          29.8 in.          10.0 mph          13.8 mph  \n",
              "4          29.8 in.           6.4 mph           9.4 mph  "
            ]
          },
          "metadata": {
            "tags": []
          },
          "execution_count": 8
        }
      ]
    },
    {
      "cell_type": "code",
      "metadata": {
        "id": "cIkuKMWiPmZr"
      },
      "source": [
        "#Stripping strings from values in dataframe in order to convert to numeric values at a latter stage\n",
        "weather_2019['Average temperature']=weather_2019['Average temperature'].str.strip('°F')\n",
        "weather_2019['Average humidity']=weather_2019['Average humidity'].str.strip('°%')\n",
        "weather_2019['Average dewpoint']=weather_2019['Average dewpoint'].str.strip('°F')\n",
        "weather_2019['Average barometer']=weather_2019['Average barometer'].str.strip(' in.')\n",
        "weather_2019['Average windspeed']=weather_2019['Average windspeed'].str.strip(' mph')\n",
        "weather_2019['Average gustspeed']=weather_2019['Average gustspeed'].str.strip(' mph')"
      ],
      "execution_count": null,
      "outputs": []
    },
    {
      "cell_type": "code",
      "metadata": {
        "id": "8z2xlSgdIXQD"
      },
      "source": [
        "weather_2019 = weather_2019.rename({'Average temperature':'Average temperature(°F)','Average humidity':'Average humidity(°%)','Average dewpoint':'Average dewpoint(°F)','Average barometer':'Average barometer(in.)','Average windspeed':'Average windspeed(mph)','Average gustspeed':'Average gustspeed(mph)'}, axis=1)"
      ],
      "execution_count": null,
      "outputs": []
    },
    {
      "cell_type": "code",
      "metadata": {
        "id": "vDuYEOkpRWPF"
      },
      "source": [
        "#make all values in datafram numeric\n",
        "weather_2019[['Average temperature(°F)','Average humidity(°%)','Average dewpoint(°F)','Average barometer(in.)',\t'Average windspeed(mph)',\t'Average gustspeed(mph)']]= weather_2019[['Average temperature(°F)','Average humidity(°%)','Average dewpoint(°F)','Average barometer(in.)',\t'Average windspeed(mph)',\t'Average gustspeed(mph)']].apply(pd.to_numeric)"
      ],
      "execution_count": null,
      "outputs": []
    },
    {
      "cell_type": "code",
      "metadata": {
        "id": "tlroDIvQSaAC",
        "outputId": "9fc54205-3050-4512-8e48-ebefe8ee44db",
        "colab": {
          "base_uri": "https://localhost:8080/",
          "height": 201
        }
      },
      "source": [
        "weather_2019.head()"
      ],
      "execution_count": null,
      "outputs": [
        {
          "output_type": "execute_result",
          "data": {
            "text/html": [
              "<div>\n",
              "<style scoped>\n",
              "    .dataframe tbody tr th:only-of-type {\n",
              "        vertical-align: middle;\n",
              "    }\n",
              "\n",
              "    .dataframe tbody tr th {\n",
              "        vertical-align: top;\n",
              "    }\n",
              "\n",
              "    .dataframe thead th {\n",
              "        text-align: right;\n",
              "    }\n",
              "</style>\n",
              "<table border=\"1\" class=\"dataframe\">\n",
              "  <thead>\n",
              "    <tr style=\"text-align: right;\">\n",
              "      <th></th>\n",
              "      <th>date</th>\n",
              "      <th>Average temperature(°F)</th>\n",
              "      <th>Average humidity(°%)</th>\n",
              "      <th>Average dewpoint(°F)</th>\n",
              "      <th>Average barometer(in.)</th>\n",
              "      <th>Average windspeed(mph)</th>\n",
              "      <th>Average gustspeed(mph)</th>\n",
              "    </tr>\n",
              "  </thead>\n",
              "  <tbody>\n",
              "    <tr>\n",
              "      <th>0</th>\n",
              "      <td>Jan 1 2019</td>\n",
              "      <td>2.4</td>\n",
              "      <td>67</td>\n",
              "      <td>-6.5</td>\n",
              "      <td>30.4</td>\n",
              "      <td>0.2</td>\n",
              "      <td>0.4</td>\n",
              "    </tr>\n",
              "    <tr>\n",
              "      <th>1</th>\n",
              "      <td>Jan 2 2019</td>\n",
              "      <td>13.7</td>\n",
              "      <td>57</td>\n",
              "      <td>-0.8</td>\n",
              "      <td>30.3</td>\n",
              "      <td>0.4</td>\n",
              "      <td>0.7</td>\n",
              "    </tr>\n",
              "    <tr>\n",
              "      <th>2</th>\n",
              "      <td>Jan 3 2019</td>\n",
              "      <td>31.9</td>\n",
              "      <td>45</td>\n",
              "      <td>10.0</td>\n",
              "      <td>30.0</td>\n",
              "      <td>3.3</td>\n",
              "      <td>5.1</td>\n",
              "    </tr>\n",
              "    <tr>\n",
              "      <th>3</th>\n",
              "      <td>Jan 4 2019</td>\n",
              "      <td>44.0</td>\n",
              "      <td>24</td>\n",
              "      <td>9.1</td>\n",
              "      <td>29.8</td>\n",
              "      <td>10.0</td>\n",
              "      <td>13.8</td>\n",
              "    </tr>\n",
              "    <tr>\n",
              "      <th>4</th>\n",
              "      <td>Jan 5 2019</td>\n",
              "      <td>43.7</td>\n",
              "      <td>25</td>\n",
              "      <td>7.9</td>\n",
              "      <td>29.8</td>\n",
              "      <td>6.4</td>\n",
              "      <td>9.4</td>\n",
              "    </tr>\n",
              "  </tbody>\n",
              "</table>\n",
              "</div>"
            ],
            "text/plain": [
              "         date  Average temperature(°F)  Average humidity(°%)  \\\n",
              "0  Jan 1 2019                      2.4                    67   \n",
              "1  Jan 2 2019                     13.7                    57   \n",
              "2  Jan 3 2019                     31.9                    45   \n",
              "3  Jan 4 2019                     44.0                    24   \n",
              "4  Jan 5 2019                     43.7                    25   \n",
              "\n",
              "   Average dewpoint(°F)  Average barometer(in.)  Average windspeed(mph)  \\\n",
              "0                  -6.5                    30.4                     0.2   \n",
              "1                  -0.8                    30.3                     0.4   \n",
              "2                  10.0                    30.0                     3.3   \n",
              "3                   9.1                    29.8                    10.0   \n",
              "4                   7.9                    29.8                     6.4   \n",
              "\n",
              "   Average gustspeed(mph)  \n",
              "0                     0.4  \n",
              "1                     0.7  \n",
              "2                     5.1  \n",
              "3                    13.8  \n",
              "4                     9.4  "
            ]
          },
          "metadata": {
            "tags": []
          },
          "execution_count": 12
        }
      ]
    },
    {
      "cell_type": "code",
      "metadata": {
        "id": "zV-ss45nSrhF"
      },
      "source": [
        "def insert_row(y,first_dataframe,second_dataframe):\n",
        "    first_section=first_dataframe[:y]\n",
        "    third_section=first_dataframe[y:]\n",
        "    second_section=second_dataframe\n",
        "    list=[first_section,second_section,third_section]\n",
        "    full_dataframe=pd.concat(list)\n",
        "    full_dataframe=full_dataframe.reset_index(drop=True)\n",
        "    return full_dataframe"
      ],
      "execution_count": null,
      "outputs": []
    },
    {
      "cell_type": "code",
      "metadata": {
        "id": "BF_yA-RPgBJu"
      },
      "source": [
        ""
      ],
      "execution_count": null,
      "outputs": []
    },
    {
      "cell_type": "code",
      "metadata": {
        "id": "2tp4tOeYVSNb",
        "outputId": "cb449716-79dc-44b4-8b87-6220961148a6",
        "colab": {
          "base_uri": "https://localhost:8080/",
          "height": 138
        }
      },
      "source": [
        "#Find the mean values of january in order to impute missing values\n",
        "january=weather_2019[:27]\n",
        "mean_january_2019 = january[['Average temperature(°F)','Average humidity(°%)','Average dewpoint(°F)','Average barometer(in.)',\t'Average windspeed(mph)',\t'Average gustspeed(mph)']].mean()\n",
        "mean_january_2019\n"
      ],
      "execution_count": null,
      "outputs": [
        {
          "output_type": "execute_result",
          "data": {
            "text/plain": [
              "Average temperature(°F)    28.648148\n",
              "Average humidity(°%)       45.185185\n",
              "Average dewpoint(°F)        7.818519\n",
              "Average barometer(in.)     29.981481\n",
              "Average windspeed(mph)      7.422222\n",
              "Average gustspeed(mph)     10.629630\n",
              "dtype: float64"
            ]
          },
          "metadata": {
            "tags": []
          },
          "execution_count": 14
        }
      ]
    },
    {
      "cell_type": "code",
      "metadata": {
        "id": "i0bYWanfWX-X",
        "outputId": "48462e41-353d-4a99-9646-f97a31488b94",
        "colab": {
          "base_uri": "https://localhost:8080/",
          "height": 140
        }
      },
      "source": [
        "#Created dataframe of missing values in order to splice into the entire weather_2019 dataframe\n",
        "data = {'date': ['Jan 9 2019','Jan 10 2019','Jan 11 2019'],\n",
        "        'Average temperature(°F)':[28.6,28.6,28.6],\n",
        "        'Average humidity(°%)':[45.2,45.2,45.2],\n",
        "        'Average dewpoint(°F)':[7.8,7.8,7.8],\n",
        "        'Average barometer(in.)':[30.0,30.0,30.0],\n",
        "        'Average windspeed(mph)': [7.4,7.4,7.4], \n",
        "        'Average gustspeed(mph)': [10.6,10.6,10.6]\n",
        "        \n",
        "        }\n",
        "\n",
        "Missing_values_january = pd.DataFrame(data,columns=['date','Average temperature(°F)','Average humidity(°%)','Average dewpoint(°F)','Average barometer(in.)',\t'Average windspeed(mph)',\t'Average gustspeed(mph)'])\n",
        "Missing_values_january\n"
      ],
      "execution_count": null,
      "outputs": [
        {
          "output_type": "execute_result",
          "data": {
            "text/html": [
              "<div>\n",
              "<style scoped>\n",
              "    .dataframe tbody tr th:only-of-type {\n",
              "        vertical-align: middle;\n",
              "    }\n",
              "\n",
              "    .dataframe tbody tr th {\n",
              "        vertical-align: top;\n",
              "    }\n",
              "\n",
              "    .dataframe thead th {\n",
              "        text-align: right;\n",
              "    }\n",
              "</style>\n",
              "<table border=\"1\" class=\"dataframe\">\n",
              "  <thead>\n",
              "    <tr style=\"text-align: right;\">\n",
              "      <th></th>\n",
              "      <th>date</th>\n",
              "      <th>Average temperature(°F)</th>\n",
              "      <th>Average humidity(°%)</th>\n",
              "      <th>Average dewpoint(°F)</th>\n",
              "      <th>Average barometer(in.)</th>\n",
              "      <th>Average windspeed(mph)</th>\n",
              "      <th>Average gustspeed(mph)</th>\n",
              "    </tr>\n",
              "  </thead>\n",
              "  <tbody>\n",
              "    <tr>\n",
              "      <th>0</th>\n",
              "      <td>Jan 9 2019</td>\n",
              "      <td>28.6</td>\n",
              "      <td>45.2</td>\n",
              "      <td>7.8</td>\n",
              "      <td>30.0</td>\n",
              "      <td>7.4</td>\n",
              "      <td>10.6</td>\n",
              "    </tr>\n",
              "    <tr>\n",
              "      <th>1</th>\n",
              "      <td>Jan 10 2019</td>\n",
              "      <td>28.6</td>\n",
              "      <td>45.2</td>\n",
              "      <td>7.8</td>\n",
              "      <td>30.0</td>\n",
              "      <td>7.4</td>\n",
              "      <td>10.6</td>\n",
              "    </tr>\n",
              "    <tr>\n",
              "      <th>2</th>\n",
              "      <td>Jan 11 2019</td>\n",
              "      <td>28.6</td>\n",
              "      <td>45.2</td>\n",
              "      <td>7.8</td>\n",
              "      <td>30.0</td>\n",
              "      <td>7.4</td>\n",
              "      <td>10.6</td>\n",
              "    </tr>\n",
              "  </tbody>\n",
              "</table>\n",
              "</div>"
            ],
            "text/plain": [
              "          date  Average temperature(°F)  Average humidity(°%)  \\\n",
              "0   Jan 9 2019                     28.6                  45.2   \n",
              "1  Jan 10 2019                     28.6                  45.2   \n",
              "2  Jan 11 2019                     28.6                  45.2   \n",
              "\n",
              "   Average dewpoint(°F)  Average barometer(in.)  Average windspeed(mph)  \\\n",
              "0                   7.8                    30.0                     7.4   \n",
              "1                   7.8                    30.0                     7.4   \n",
              "2                   7.8                    30.0                     7.4   \n",
              "\n",
              "   Average gustspeed(mph)  \n",
              "0                    10.6  \n",
              "1                    10.6  \n",
              "2                    10.6  "
            ]
          },
          "metadata": {
            "tags": []
          },
          "execution_count": 15
        }
      ]
    },
    {
      "cell_type": "code",
      "metadata": {
        "id": "XutH5T7IXi_k"
      },
      "source": [
        "#Adding missing values into the dataframe\n",
        "weather_2019=insert_row(8,weather_2019,Missing_values_january)"
      ],
      "execution_count": null,
      "outputs": []
    },
    {
      "cell_type": "code",
      "metadata": {
        "id": "70O-If4PXkCe",
        "outputId": "b13c4d4b-6ca7-4931-c391-4417489cffb2",
        "colab": {
          "base_uri": "https://localhost:8080/",
          "height": 138
        }
      },
      "source": [
        "#Find the mean values of march in order to impute missing values\n",
        "march=weather_2019[59:88]\n",
        "mean_march_2019 = march[['Average temperature(°F)','Average humidity(°%)','Average dewpoint(°F)','Average barometer(in.)',\t'Average windspeed(mph)',\t'Average gustspeed(mph)']].mean()\n",
        "mean_march_2019\n"
      ],
      "execution_count": null,
      "outputs": [
        {
          "output_type": "execute_result",
          "data": {
            "text/plain": [
              "Average temperature(°F)    30.289655\n",
              "Average humidity(°%)       56.275862\n",
              "Average dewpoint(°F)       14.268966\n",
              "Average barometer(in.)     29.986207\n",
              "Average windspeed(mph)      4.641379\n",
              "Average gustspeed(mph)      6.996552\n",
              "dtype: float64"
            ]
          },
          "metadata": {
            "tags": []
          },
          "execution_count": 17
        }
      ]
    },
    {
      "cell_type": "markdown",
      "metadata": {
        "id": "7WCeRjGRpjr8"
      },
      "source": [
        ""
      ]
    },
    {
      "cell_type": "code",
      "metadata": {
        "id": "RXDBSraTkNnt",
        "outputId": "2af48f39-2c2d-4c99-994f-79a54009c8cf",
        "colab": {
          "base_uri": "https://localhost:8080/",
          "height": 79
        }
      },
      "source": [
        "#Created dataframe of missing values in order to splice into the entire weather_2019 dataframe\n",
        "data = {'date': ['Mar 1 2019'],\n",
        "        'Average temperature(°F)':[30.3],\n",
        "        'Average humidity(°%)':[56.3],\n",
        "        'Average dewpoint(°F)':[14.3],\n",
        "        'Average barometer(in.)':[30.0],\n",
        "        'Average windspeed(mph)': [4.6], \n",
        "        'Average gustspeed(mph)': [7.0]\n",
        "        \n",
        "        }\n",
        "\n",
        "Missing_values_march = pd.DataFrame(data,columns=['date','Average temperature(°F)','Average humidity(°%)','Average dewpoint(°F)','Average barometer(in.)',\t'Average windspeed(mph)',\t'Average gustspeed(mph)'])\n",
        "Missing_values_march"
      ],
      "execution_count": null,
      "outputs": [
        {
          "output_type": "execute_result",
          "data": {
            "text/html": [
              "<div>\n",
              "<style scoped>\n",
              "    .dataframe tbody tr th:only-of-type {\n",
              "        vertical-align: middle;\n",
              "    }\n",
              "\n",
              "    .dataframe tbody tr th {\n",
              "        vertical-align: top;\n",
              "    }\n",
              "\n",
              "    .dataframe thead th {\n",
              "        text-align: right;\n",
              "    }\n",
              "</style>\n",
              "<table border=\"1\" class=\"dataframe\">\n",
              "  <thead>\n",
              "    <tr style=\"text-align: right;\">\n",
              "      <th></th>\n",
              "      <th>date</th>\n",
              "      <th>Average temperature(°F)</th>\n",
              "      <th>Average humidity(°%)</th>\n",
              "      <th>Average dewpoint(°F)</th>\n",
              "      <th>Average barometer(in.)</th>\n",
              "      <th>Average windspeed(mph)</th>\n",
              "      <th>Average gustspeed(mph)</th>\n",
              "    </tr>\n",
              "  </thead>\n",
              "  <tbody>\n",
              "    <tr>\n",
              "      <th>0</th>\n",
              "      <td>Mar 1 2019</td>\n",
              "      <td>30.3</td>\n",
              "      <td>56.3</td>\n",
              "      <td>14.3</td>\n",
              "      <td>30.0</td>\n",
              "      <td>4.6</td>\n",
              "      <td>7.0</td>\n",
              "    </tr>\n",
              "  </tbody>\n",
              "</table>\n",
              "</div>"
            ],
            "text/plain": [
              "         date  Average temperature(°F)  Average humidity(°%)  \\\n",
              "0  Mar 1 2019                     30.3                  56.3   \n",
              "\n",
              "   Average dewpoint(°F)  Average barometer(in.)  Average windspeed(mph)  \\\n",
              "0                  14.3                    30.0                     4.6   \n",
              "\n",
              "   Average gustspeed(mph)  \n",
              "0                     7.0  "
            ]
          },
          "metadata": {
            "tags": []
          },
          "execution_count": 18
        }
      ]
    },
    {
      "cell_type": "code",
      "metadata": {
        "id": "FyUhY5WTpmlV"
      },
      "source": [
        "weather_2019=insert_row(59,weather_2019,Missing_values_march)"
      ],
      "execution_count": null,
      "outputs": []
    },
    {
      "cell_type": "code",
      "metadata": {
        "id": "NSdR_Hl4pq96",
        "outputId": "2625cc87-7861-4bc6-eede-48b5b4083a17",
        "colab": {
          "base_uri": "https://localhost:8080/",
          "height": 138
        }
      },
      "source": [
        "#Find the mean values of march in order to impute missing values\n",
        "june=weather_2019[151:179]\n",
        "\n",
        "mean_june_2019 = june[['Average temperature(°F)','Average humidity(°%)','Average dewpoint(°F)','Average barometer(in.)',\t'Average windspeed(mph)',\t'Average gustspeed(mph)']] .mean()\n",
        "mean_june_2019"
      ],
      "execution_count": null,
      "outputs": [
        {
          "output_type": "execute_result",
          "data": {
            "text/plain": [
              "Average temperature(°F)    55.800000\n",
              "Average humidity(°%)       55.178571\n",
              "Average dewpoint(°F)       37.289286\n",
              "Average barometer(in.)     29.746429\n",
              "Average windspeed(mph)      3.503571\n",
              "Average gustspeed(mph)      5.303571\n",
              "dtype: float64"
            ]
          },
          "metadata": {
            "tags": []
          },
          "execution_count": 20
        }
      ]
    },
    {
      "cell_type": "code",
      "metadata": {
        "id": "rGadJRYfprz1",
        "outputId": "9c434d68-a6ff-4331-e1e8-12cc9d4d1b52",
        "colab": {
          "base_uri": "https://localhost:8080/",
          "height": 109
        }
      },
      "source": [
        "#Created dataframe of missing values in order to splice into the entire weather_2019 dataframe\n",
        "data = {'date': ['Jun 24 2019','Jun 25 2019'],\n",
        "   'Average temperature(°F)':[55.4,55.4],\n",
        "        'Average humidity(°%)':[54.9,54.9],\n",
        "        'Average dewpoint(°F)':[36.8,36.8],\n",
        "        'Average barometer(in.)':[30.0,30.0],\n",
        "        'Average windspeed(mph)': [3.5,3.5], \n",
        "        'Average gustspeed(mph)': [5.3,5.3]\n",
        "        \n",
        "        }\n",
        "\n",
        "\n",
        "Missing_values_june = pd.DataFrame(data,columns=['date','Average temperature(°F)','Average humidity(°%)','Average dewpoint(°F)','Average barometer(in.)',\t'Average windspeed(mph)',\t'Average gustspeed(mph)'])\n",
        "Missing_values_june"
      ],
      "execution_count": null,
      "outputs": [
        {
          "output_type": "execute_result",
          "data": {
            "text/html": [
              "<div>\n",
              "<style scoped>\n",
              "    .dataframe tbody tr th:only-of-type {\n",
              "        vertical-align: middle;\n",
              "    }\n",
              "\n",
              "    .dataframe tbody tr th {\n",
              "        vertical-align: top;\n",
              "    }\n",
              "\n",
              "    .dataframe thead th {\n",
              "        text-align: right;\n",
              "    }\n",
              "</style>\n",
              "<table border=\"1\" class=\"dataframe\">\n",
              "  <thead>\n",
              "    <tr style=\"text-align: right;\">\n",
              "      <th></th>\n",
              "      <th>date</th>\n",
              "      <th>Average temperature(°F)</th>\n",
              "      <th>Average humidity(°%)</th>\n",
              "      <th>Average dewpoint(°F)</th>\n",
              "      <th>Average barometer(in.)</th>\n",
              "      <th>Average windspeed(mph)</th>\n",
              "      <th>Average gustspeed(mph)</th>\n",
              "    </tr>\n",
              "  </thead>\n",
              "  <tbody>\n",
              "    <tr>\n",
              "      <th>0</th>\n",
              "      <td>Jun 24 2019</td>\n",
              "      <td>55.4</td>\n",
              "      <td>54.9</td>\n",
              "      <td>36.8</td>\n",
              "      <td>30.0</td>\n",
              "      <td>3.5</td>\n",
              "      <td>5.3</td>\n",
              "    </tr>\n",
              "    <tr>\n",
              "      <th>1</th>\n",
              "      <td>Jun 25 2019</td>\n",
              "      <td>55.4</td>\n",
              "      <td>54.9</td>\n",
              "      <td>36.8</td>\n",
              "      <td>30.0</td>\n",
              "      <td>3.5</td>\n",
              "      <td>5.3</td>\n",
              "    </tr>\n",
              "  </tbody>\n",
              "</table>\n",
              "</div>"
            ],
            "text/plain": [
              "          date  Average temperature(°F)  Average humidity(°%)  \\\n",
              "0  Jun 24 2019                     55.4                  54.9   \n",
              "1  Jun 25 2019                     55.4                  54.9   \n",
              "\n",
              "   Average dewpoint(°F)  Average barometer(in.)  Average windspeed(mph)  \\\n",
              "0                  36.8                    30.0                     3.5   \n",
              "1                  36.8                    30.0                     3.5   \n",
              "\n",
              "   Average gustspeed(mph)  \n",
              "0                     5.3  \n",
              "1                     5.3  "
            ]
          },
          "metadata": {
            "tags": []
          },
          "execution_count": 21
        }
      ]
    },
    {
      "cell_type": "code",
      "metadata": {
        "id": "lbGV9L20rumJ"
      },
      "source": [
        "weather_2019=insert_row(174,weather_2019,Missing_values_june)"
      ],
      "execution_count": null,
      "outputs": []
    },
    {
      "cell_type": "code",
      "metadata": {
        "id": "HB-KUoMZr1kK",
        "outputId": "442e473c-6490-452e-a1ec-541719b49cec",
        "colab": {
          "base_uri": "https://localhost:8080/",
          "height": 34
        }
      },
      "source": [
        "weather_2019.shape"
      ],
      "execution_count": null,
      "outputs": [
        {
          "output_type": "execute_result",
          "data": {
            "text/plain": [
              "(365, 7)"
            ]
          },
          "metadata": {
            "tags": []
          },
          "execution_count": 25
        }
      ]
    },
    {
      "cell_type": "code",
      "metadata": {
        "id": "sIURRm90r3OQ",
        "outputId": "75276c09-1efb-4d98-b33c-bf44081f3b6e",
        "colab": {
          "base_uri": "https://localhost:8080/",
          "height": 231
        }
      },
      "source": [
        "#reorganize dates and making it the index\n",
        "weather_2019['date']=pd.date_range(start='1/1/2019', end='31/12/2019')\n",
        "weather_2019 = weather_2019.set_index('date')\n",
        "weather_2019.head()"
      ],
      "execution_count": null,
      "outputs": [
        {
          "output_type": "execute_result",
          "data": {
            "text/html": [
              "<div>\n",
              "<style scoped>\n",
              "    .dataframe tbody tr th:only-of-type {\n",
              "        vertical-align: middle;\n",
              "    }\n",
              "\n",
              "    .dataframe tbody tr th {\n",
              "        vertical-align: top;\n",
              "    }\n",
              "\n",
              "    .dataframe thead th {\n",
              "        text-align: right;\n",
              "    }\n",
              "</style>\n",
              "<table border=\"1\" class=\"dataframe\">\n",
              "  <thead>\n",
              "    <tr style=\"text-align: right;\">\n",
              "      <th></th>\n",
              "      <th>Average temperature(°F)</th>\n",
              "      <th>Average humidity(°%)</th>\n",
              "      <th>Average dewpoint(°F)</th>\n",
              "      <th>Average barometer(in.)</th>\n",
              "      <th>Average windspeed(mph)</th>\n",
              "      <th>Average gustspeed(mph)</th>\n",
              "    </tr>\n",
              "    <tr>\n",
              "      <th>date</th>\n",
              "      <th></th>\n",
              "      <th></th>\n",
              "      <th></th>\n",
              "      <th></th>\n",
              "      <th></th>\n",
              "      <th></th>\n",
              "    </tr>\n",
              "  </thead>\n",
              "  <tbody>\n",
              "    <tr>\n",
              "      <th>2019-01-01</th>\n",
              "      <td>2.4</td>\n",
              "      <td>67.0</td>\n",
              "      <td>-6.5</td>\n",
              "      <td>30.4</td>\n",
              "      <td>0.2</td>\n",
              "      <td>0.4</td>\n",
              "    </tr>\n",
              "    <tr>\n",
              "      <th>2019-01-02</th>\n",
              "      <td>13.7</td>\n",
              "      <td>57.0</td>\n",
              "      <td>-0.8</td>\n",
              "      <td>30.3</td>\n",
              "      <td>0.4</td>\n",
              "      <td>0.7</td>\n",
              "    </tr>\n",
              "    <tr>\n",
              "      <th>2019-01-03</th>\n",
              "      <td>31.9</td>\n",
              "      <td>45.0</td>\n",
              "      <td>10.0</td>\n",
              "      <td>30.0</td>\n",
              "      <td>3.3</td>\n",
              "      <td>5.1</td>\n",
              "    </tr>\n",
              "    <tr>\n",
              "      <th>2019-01-04</th>\n",
              "      <td>44.0</td>\n",
              "      <td>24.0</td>\n",
              "      <td>9.1</td>\n",
              "      <td>29.8</td>\n",
              "      <td>10.0</td>\n",
              "      <td>13.8</td>\n",
              "    </tr>\n",
              "    <tr>\n",
              "      <th>2019-01-05</th>\n",
              "      <td>43.7</td>\n",
              "      <td>25.0</td>\n",
              "      <td>7.9</td>\n",
              "      <td>29.8</td>\n",
              "      <td>6.4</td>\n",
              "      <td>9.4</td>\n",
              "    </tr>\n",
              "  </tbody>\n",
              "</table>\n",
              "</div>"
            ],
            "text/plain": [
              "            Average temperature(°F)  Average humidity(°%)  \\\n",
              "date                                                        \n",
              "2019-01-01                      2.4                  67.0   \n",
              "2019-01-02                     13.7                  57.0   \n",
              "2019-01-03                     31.9                  45.0   \n",
              "2019-01-04                     44.0                  24.0   \n",
              "2019-01-05                     43.7                  25.0   \n",
              "\n",
              "            Average dewpoint(°F)  Average barometer(in.)  \\\n",
              "date                                                       \n",
              "2019-01-01                  -6.5                    30.4   \n",
              "2019-01-02                  -0.8                    30.3   \n",
              "2019-01-03                  10.0                    30.0   \n",
              "2019-01-04                   9.1                    29.8   \n",
              "2019-01-05                   7.9                    29.8   \n",
              "\n",
              "            Average windspeed(mph)  Average gustspeed(mph)  \n",
              "date                                                        \n",
              "2019-01-01                     0.2                     0.4  \n",
              "2019-01-02                     0.4                     0.7  \n",
              "2019-01-03                     3.3                     5.1  \n",
              "2019-01-04                    10.0                    13.8  \n",
              "2019-01-05                     6.4                     9.4  "
            ]
          },
          "metadata": {
            "tags": []
          },
          "execution_count": 28
        }
      ]
    },
    {
      "cell_type": "code",
      "metadata": {
        "id": "wh_LiUCj1lKu"
      },
      "source": [
        "weather_2019.to_excel(\"weather_2019_clean_data.xlsx\")"
      ],
      "execution_count": null,
      "outputs": []
    },
    {
      "cell_type": "code",
      "metadata": {
        "id": "Od1DAO5RtV_L"
      },
      "source": [
        "#refrences\n",
        "#https://www.geeksforgeeks.org/insert-row-at-given-position-in-pandas-dataframe/\n",
        "#https://towardsdatascience.com/weather-data-collection-web-scraping-using-python-a4189e7a2ee6"
      ],
      "execution_count": null,
      "outputs": []
    }
  ]
}