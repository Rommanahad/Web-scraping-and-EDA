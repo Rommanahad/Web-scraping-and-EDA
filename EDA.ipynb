{
  "nbformat": 4,
  "nbformat_minor": 0,
  "metadata": {
    "colab": {
      "name": "EDA",
      "provenance": [],
      "collapsed_sections": [],
      "authorship_tag": "ABX9TyMWDJrBQ95sDf1OTBq1nxs9",
      "include_colab_link": true
    },
    "kernelspec": {
      "name": "python3",
      "display_name": "Python 3"
    }
  },
  "cells": [
    {
      "cell_type": "markdown",
      "metadata": {
        "id": "view-in-github",
        "colab_type": "text"
      },
      "source": [
        "<a href=\"https://colab.research.google.com/github/Rommanahad/Web-scraping-and-EDA/blob/main/EDA.ipynb\" target=\"_parent\"><img src=\"https://colab.research.google.com/assets/colab-badge.svg\" alt=\"Open In Colab\"/></a>"
      ]
    },
    {
      "cell_type": "code",
      "metadata": {
        "id": "aLFJrAZ3206I"
      },
      "source": [
        "\n",
        "import numpy as np\n",
        "import pandas as pd\n",
        "import seaborn as sns\n",
        "from scipy import stats\n",
        "import matplotlib.pyplot as plt\n",
        "\n",
        "import statsmodels.api as sm\n",
        "from statsmodels.stats import diagnostic as diag\n",
        "from statsmodels.stats.outliers_influence import variance_inflation_factor\n",
        "\n",
        "from sklearn.linear_model import LinearRegression\n",
        "from sklearn.model_selection import train_test_split\n",
        "from sklearn.metrics import mean_squared_error, r2_score, mean_absolute_error"
      ],
      "execution_count": null,
      "outputs": []
    },
    {
      "cell_type": "code",
      "metadata": {
        "id": "aEd941fU3Bgs"
      },
      "source": [
        "weather_2019 = pd.read_excel('/content/weather_2019_clean_data (1) (1).xlsx')"
      ],
      "execution_count": null,
      "outputs": []
    },
    {
      "cell_type": "code",
      "metadata": {
        "id": "Oft6OzJj3Dn2"
      },
      "source": [
        ""
      ],
      "execution_count": null,
      "outputs": []
    },
    {
      "cell_type": "code",
      "metadata": {
        "id": "7oh8giSI3EX0",
        "outputId": "c02a9adb-3508-4d00-f665-61b2b63d4f51",
        "colab": {
          "base_uri": "https://localhost:8080/"
        }
      },
      "source": [
        "weather_2019.info()"
      ],
      "execution_count": null,
      "outputs": [
        {
          "output_type": "stream",
          "text": [
            "<class 'pandas.core.frame.DataFrame'>\n",
            "RangeIndex: 365 entries, 0 to 364\n",
            "Data columns (total 7 columns):\n",
            " #   Column                   Non-Null Count  Dtype         \n",
            "---  ------                   --------------  -----         \n",
            " 0   date                     365 non-null    datetime64[ns]\n",
            " 1   Average temperature(°F)  365 non-null    float64       \n",
            " 2   Average humidity(°%)     365 non-null    float64       \n",
            " 3   Average dewpoint(°F)     365 non-null    float64       \n",
            " 4   Average barometer(in.)   365 non-null    float64       \n",
            " 5   Average windspeed(mph)   365 non-null    float64       \n",
            " 6   Average gustspeed(mph)   365 non-null    float64       \n",
            "dtypes: datetime64[ns](1), float64(6)\n",
            "memory usage: 20.1 KB\n"
          ],
          "name": "stdout"
        }
      ]
    },
    {
      "cell_type": "code",
      "metadata": {
        "id": "4rvb3uQ-3Lce",
        "outputId": "3ceb75fc-80eb-4a5b-ec16-ac08657aaa05",
        "colab": {
          "base_uri": "https://localhost:8080/",
          "height": 423
        }
      },
      "source": [
        "plt.style.use('seaborn')\n",
        "fig, axes = plt.subplots(2,3,sharey=True)\n",
        "axes[0,0].hist(weather_2019['Average temperature(°F)'])\n",
        "axes[0,1].hist(weather_2019['Average humidity(°%)'])\n",
        "axes[0,2].hist(weather_2019['Average dewpoint(°F)'])\n",
        "axes[1,0].hist(weather_2019['Average barometer(in.)'])\n",
        "axes[1,1].hist(weather_2019['Average windspeed(mph)'])\n",
        "axes[1,2].hist(weather_2019['Average gustspeed(mph)'])\n",
        "\n",
        "axes[0,0].set_xlabel('Average temperature(°F)')\n",
        "axes[0,1].set_xlabel('Average humidity(°%)')\n",
        "axes[0,2].set_xlabel('Average dewpoint(°F)')\n",
        "axes[1,0].set_xlabel('Average barometer(in.)')\n",
        "axes[1,1].set_xlabel('Average windspeed(mph)')\n",
        "axes[1,2].set_xlabel('Average gustspeed(mph)')\n",
        "\n",
        "fig.text(-0.02, 0.5, 'Frequency', va='center', rotation='vertical', size=15)\n",
        "fig.text(0.45, 1, 'Distributions', va='center', rotation='horizontal', size=15)\n",
        "plt.tight_layout()\n",
        "plt.show()"
      ],
      "execution_count": null,
      "outputs": [
        {
          "output_type": "display_data",
          "data": {
            "image/png": "[encoded data removed]",
            "text/plain": [
              "<Figure size 576x396 with 6 Axes>"
            ]
          },
          "metadata": {
            "tags": []
          }
        }
      ]
    },
    {
      "cell_type": "code",
      "metadata": {
        "id": "WQ4KXgVDAoj6",
        "outputId": "56a49f39-ac1f-4593-e111-ad77bcb232f6",
        "colab": {
          "base_uri": "https://localhost:8080/",
          "height": 468
        }
      },
      "source": [
        "sns.heatmap(weather_2019[['Average temperature(°F)','Average humidity(°%)','Average dewpoint(°F)','Average barometer(in.)',\t'Average windspeed(mph)',\t'Average gustspeed(mph)']].corr(),vmax=.3, center=0, cmap=\"Blues\",square=True, linewidths=.5, cbar_kws={\"shrink\": .5})"
      ],
      "execution_count": null,
      "outputs": [
        {
          "output_type": "execute_result",
          "data": {
            "text/plain": [
              "<matplotlib.axes._subplots.AxesSubplot at 0x7f75f1310550>"
            ]
          },
          "metadata": {
            "tags": []
          },
          "execution_count": 13
        },
        {
          "output_type": "display_data",
          "data": {
            "image/png": "[encoded data removed]",
            "text/plain": [
              "<Figure size 576x396 with 2 Axes>"
            ]
          },
          "metadata": {
            "tags": []
          }
        }
      ]
    },
    {
      "cell_type": "code",
      "metadata": {
        "id": "3-fGiaReRlZM"
      },
      "source": [
        "corr = weather_2019[['Average temperature(°F)','Average humidity(°%)','Average dewpoint(°F)','Average barometer(in.)',\t'Average windspeed(mph)',\t'Average gustspeed(mph)']].corr()"
      ],
      "execution_count": null,
      "outputs": []
    },
    {
      "cell_type": "code",
      "metadata": {
        "id": "KcxUYrdGSVyt",
        "outputId": "8b941978-d450-462f-9efd-896bb3e5a7b7",
        "colab": {
          "base_uri": "https://localhost:8080/",
          "height": 327
        }
      },
      "source": [
        "# define two data frames one before the drop and one after the drop\n",
        "weather_2019_before = weather_2019[['Average temperature(°F)','Average humidity(°%)','Average dewpoint(°F)','Average barometer(in.)',\t'Average windspeed(mph)',\t'Average gustspeed(mph)']]\n",
        "weather_2019_after = weather_2019.drop(['Average dewpoint(°F)','Average gustspeed(mph)','date'], axis=1)\n",
        "\n",
        "# the VFI does expect a constant term in the data, so we need to add one using the add_constant method\n",
        "X1 = sm.tools.add_constant(weather_2019_before)\n",
        "X2 = sm.tools.add_constant(weather_2019_after)\n",
        "\n",
        "# create the series for both\n",
        "series_before = pd.Series([variance_inflation_factor(X1.values, i) for i in range(X1.shape[1])], index=X1.columns)\n",
        "series_after = pd.Series([variance_inflation_factor(X2.values, i) for i in range(X2.shape[1])], index=X2.columns)\n",
        "\n",
        "# display the series\n",
        "print('DATA BEFORE')\n",
        "print('-'*100)\n",
        "display(series_before)\n",
        "\n",
        "print('DATA AFTER')\n",
        "print('-'*100)\n",
        "display(series_after)"
      ],
      "execution_count": null,
      "outputs": [
        {
          "output_type": "stream",
          "text": [
            "DATA BEFORE\n",
            "----------------------------------------------------------------------------------------------------\n"
          ],
          "name": "stdout"
        },
        {
          "output_type": "display_data",
          "data": {
            "text/plain": [
              "const                      29732.068647\n",
              "Average temperature(°F)       41.583507\n",
              "Average humidity(°%)          19.898486\n",
              "Average dewpoint(°F)          42.613985\n",
              "Average barometer(in.)         1.576385\n",
              "Average windspeed(mph)        60.267733\n",
              "Average gustspeed(mph)        59.191872\n",
              "dtype: float64"
            ]
          },
          "metadata": {
            "tags": []
          }
        },
        {
          "output_type": "stream",
          "text": [
            "DATA AFTER\n",
            "----------------------------------------------------------------------------------------------------\n"
          ],
          "name": "stdout"
        },
        {
          "output_type": "display_data",
          "data": {
            "text/plain": [
              "const                      28682.017151\n",
              "Average temperature(°F)        1.915091\n",
              "Average humidity(°%)           1.913456\n",
              "Average barometer(in.)         1.556899\n",
              "Average windspeed(mph)         1.978292\n",
              "dtype: float64"
            ]
          },
          "metadata": {
            "tags": []
          }
        }
      ]
    },
    {
      "cell_type": "code",
      "metadata": {
        "id": "JRJGkJv3Zz5r",
        "outputId": "37e966e4-ee9b-46d3-f27f-c14505997c60",
        "colab": {
          "base_uri": "https://localhost:8080/",
          "height": 371
        }
      },
      "source": [
        "#detecting outliers \n",
        "\n",
        "desc_weather_2019 = weather_2019.describe()\n",
        "\n",
        "#add standard deviation\n",
        "desc_weather_2019.loc['+3_std'] = desc_weather_2019.loc['mean'] + (desc_weather_2019.loc['std'] * 3)\n",
        "desc_weather_2019.loc['-3_std'] = desc_weather_2019.loc['mean'] - (desc_weather_2019.loc['std'] * 3)\n",
        "\n",
        "desc_weather_2019\n"
      ],
      "execution_count": null,
      "outputs": [
        {
          "output_type": "execute_result",
          "data": {
            "text/html": [
              "<div>\n",
              "<style scoped>\n",
              "    .dataframe tbody tr th:only-of-type {\n",
              "        vertical-align: middle;\n",
              "    }\n",
              "\n",
              "    .dataframe tbody tr th {\n",
              "        vertical-align: top;\n",
              "    }\n",
              "\n",
              "    .dataframe thead th {\n",
              "        text-align: right;\n",
              "    }\n",
              "</style>\n",
              "<table border=\"1\" class=\"dataframe\">\n",
              "  <thead>\n",
              "    <tr style=\"text-align: right;\">\n",
              "      <th></th>\n",
              "      <th>Average temperature(°F)</th>\n",
              "      <th>Average humidity(°%)</th>\n",
              "      <th>Average dewpoint(°F)</th>\n",
              "      <th>Average barometer(in.)</th>\n",
              "      <th>Average windspeed(mph)</th>\n",
              "      <th>Average gustspeed(mph)</th>\n",
              "    </tr>\n",
              "  </thead>\n",
              "  <tbody>\n",
              "    <tr>\n",
              "      <th>count</th>\n",
              "      <td>365.000000</td>\n",
              "      <td>365.000000</td>\n",
              "      <td>365.000000</td>\n",
              "      <td>365.000000</td>\n",
              "      <td>365.000000</td>\n",
              "      <td>365.000000</td>\n",
              "    </tr>\n",
              "    <tr>\n",
              "      <th>mean</th>\n",
              "      <td>42.947397</td>\n",
              "      <td>51.451233</td>\n",
              "      <td>22.976986</td>\n",
              "      <td>29.823836</td>\n",
              "      <td>5.412877</td>\n",
              "      <td>8.244932</td>\n",
              "    </tr>\n",
              "    <tr>\n",
              "      <th>std</th>\n",
              "      <td>15.722993</td>\n",
              "      <td>17.314171</td>\n",
              "      <td>15.073050</td>\n",
              "      <td>0.225702</td>\n",
              "      <td>3.611790</td>\n",
              "      <td>5.071230</td>\n",
              "    </tr>\n",
              "    <tr>\n",
              "      <th>min</th>\n",
              "      <td>1.000000</td>\n",
              "      <td>11.000000</td>\n",
              "      <td>-12.900000</td>\n",
              "      <td>29.300000</td>\n",
              "      <td>0.200000</td>\n",
              "      <td>0.400000</td>\n",
              "    </tr>\n",
              "    <tr>\n",
              "      <th>25%</th>\n",
              "      <td>31.500000</td>\n",
              "      <td>39.000000</td>\n",
              "      <td>11.900000</td>\n",
              "      <td>29.700000</td>\n",
              "      <td>2.700000</td>\n",
              "      <td>4.500000</td>\n",
              "    </tr>\n",
              "    <tr>\n",
              "      <th>50%</th>\n",
              "      <td>43.600000</td>\n",
              "      <td>49.000000</td>\n",
              "      <td>21.400000</td>\n",
              "      <td>29.800000</td>\n",
              "      <td>4.200000</td>\n",
              "      <td>6.400000</td>\n",
              "    </tr>\n",
              "    <tr>\n",
              "      <th>75%</th>\n",
              "      <td>56.000000</td>\n",
              "      <td>65.000000</td>\n",
              "      <td>35.300000</td>\n",
              "      <td>30.000000</td>\n",
              "      <td>7.400000</td>\n",
              "      <td>10.900000</td>\n",
              "    </tr>\n",
              "    <tr>\n",
              "      <th>max</th>\n",
              "      <td>74.400000</td>\n",
              "      <td>94.000000</td>\n",
              "      <td>53.000000</td>\n",
              "      <td>30.500000</td>\n",
              "      <td>19.400000</td>\n",
              "      <td>28.300000</td>\n",
              "    </tr>\n",
              "    <tr>\n",
              "      <th>+3_std</th>\n",
              "      <td>90.116375</td>\n",
              "      <td>103.393747</td>\n",
              "      <td>68.196136</td>\n",
              "      <td>30.500941</td>\n",
              "      <td>16.248246</td>\n",
              "      <td>23.458621</td>\n",
              "    </tr>\n",
              "    <tr>\n",
              "      <th>-3_std</th>\n",
              "      <td>-4.221581</td>\n",
              "      <td>-0.491281</td>\n",
              "      <td>-22.242163</td>\n",
              "      <td>29.146730</td>\n",
              "      <td>-5.422493</td>\n",
              "      <td>-6.968758</td>\n",
              "    </tr>\n",
              "  </tbody>\n",
              "</table>\n",
              "</div>"
            ],
            "text/plain": [
              "        Average temperature(°F)  ...  Average gustspeed(mph)\n",
              "count                365.000000  ...              365.000000\n",
              "mean                  42.947397  ...                8.244932\n",
              "std                   15.722993  ...                5.071230\n",
              "min                    1.000000  ...                0.400000\n",
              "25%                   31.500000  ...                4.500000\n",
              "50%                   43.600000  ...                6.400000\n",
              "75%                   56.000000  ...               10.900000\n",
              "max                   74.400000  ...               28.300000\n",
              "+3_std                90.116375  ...               23.458621\n",
              "-3_std                -4.221581  ...               -6.968758\n",
              "\n",
              "[10 rows x 6 columns]"
            ]
          },
          "metadata": {
            "tags": []
          },
          "execution_count": 22
        }
      ]
    },
    {
      "cell_type": "code",
      "metadata": {
        "id": "_XoUQyWUaI9y",
        "outputId": "2a8418f1-d9a0-424b-98f2-a259d8cd4b1e",
        "colab": {
          "base_uri": "https://localhost:8080/"
        }
      },
      "source": [
        "weather_2019= weather_2019.set_index('date')\n",
        "#checking for outliers and removing them\n",
        "weather_2019_remove_df = weather_2019[(np.abs(stats.zscore(weather_2019)) < 3).all(axis=1)]\n",
        "\n",
        "\n",
        "#which indexs were removed?\n",
        "weather_2019.index.difference(weather_2019_remove_df.index)\n"
      ],
      "execution_count": null,
      "outputs": [
        {
          "output_type": "execute_result",
          "data": {
            "text/plain": [
              "DatetimeIndex(['2019-02-13', '2019-02-28', '2019-11-24', '2019-11-30'], dtype='datetime64[ns]', name='date', freq=None)"
            ]
          },
          "metadata": {
            "tags": []
          },
          "execution_count": 23
        }
      ]
    },
    {
      "cell_type": "code",
      "metadata": {
        "id": "vlaChY4ubpf5",
        "outputId": "df06691d-8649-4c26-e220-0c3f174f2c51",
        "colab": {
          "base_uri": "https://localhost:8080/",
          "height": 633
        }
      },
      "source": [
        "weather_2019_remove_df"
      ],
      "execution_count": null,
      "outputs": [
        {
          "output_type": "execute_result",
          "data": {
            "text/html": [
              "<div>\n",
              "<style scoped>\n",
              "    .dataframe tbody tr th:only-of-type {\n",
              "        vertical-align: middle;\n",
              "    }\n",
              "\n",
              "    .dataframe tbody tr th {\n",
              "        vertical-align: top;\n",
              "    }\n",
              "\n",
              "    .dataframe thead th {\n",
              "        text-align: right;\n",
              "    }\n",
              "</style>\n",
              "<table border=\"1\" class=\"dataframe\">\n",
              "  <thead>\n",
              "    <tr style=\"text-align: right;\">\n",
              "      <th></th>\n",
              "      <th>Average temperature(°F)</th>\n",
              "      <th>Average humidity(°%)</th>\n",
              "      <th>Average dewpoint(°F)</th>\n",
              "      <th>Average barometer(in.)</th>\n",
              "      <th>Average windspeed(mph)</th>\n",
              "      <th>Average gustspeed(mph)</th>\n",
              "    </tr>\n",
              "    <tr>\n",
              "      <th>date</th>\n",
              "      <th></th>\n",
              "      <th></th>\n",
              "      <th></th>\n",
              "      <th></th>\n",
              "      <th></th>\n",
              "      <th></th>\n",
              "    </tr>\n",
              "  </thead>\n",
              "  <tbody>\n",
              "    <tr>\n",
              "      <th>2019-01-01</th>\n",
              "      <td>2.4</td>\n",
              "      <td>67.0</td>\n",
              "      <td>-6.5</td>\n",
              "      <td>30.4</td>\n",
              "      <td>0.2</td>\n",
              "      <td>0.4</td>\n",
              "    </tr>\n",
              "    <tr>\n",
              "      <th>2019-01-02</th>\n",
              "      <td>13.7</td>\n",
              "      <td>57.0</td>\n",
              "      <td>-0.8</td>\n",
              "      <td>30.3</td>\n",
              "      <td>0.4</td>\n",
              "      <td>0.7</td>\n",
              "    </tr>\n",
              "    <tr>\n",
              "      <th>2019-01-03</th>\n",
              "      <td>31.9</td>\n",
              "      <td>45.0</td>\n",
              "      <td>10.0</td>\n",
              "      <td>30.0</td>\n",
              "      <td>3.3</td>\n",
              "      <td>5.1</td>\n",
              "    </tr>\n",
              "    <tr>\n",
              "      <th>2019-01-04</th>\n",
              "      <td>44.0</td>\n",
              "      <td>24.0</td>\n",
              "      <td>9.1</td>\n",
              "      <td>29.8</td>\n",
              "      <td>10.0</td>\n",
              "      <td>13.8</td>\n",
              "    </tr>\n",
              "    <tr>\n",
              "      <th>2019-01-05</th>\n",
              "      <td>43.7</td>\n",
              "      <td>25.0</td>\n",
              "      <td>7.9</td>\n",
              "      <td>29.8</td>\n",
              "      <td>6.4</td>\n",
              "      <td>9.4</td>\n",
              "    </tr>\n",
              "    <tr>\n",
              "      <th>...</th>\n",
              "      <td>...</td>\n",
              "      <td>...</td>\n",
              "      <td>...</td>\n",
              "      <td>...</td>\n",
              "      <td>...</td>\n",
              "      <td>...</td>\n",
              "    </tr>\n",
              "    <tr>\n",
              "      <th>2019-12-27</th>\n",
              "      <td>17.0</td>\n",
              "      <td>70.0</td>\n",
              "      <td>7.6</td>\n",
              "      <td>30.0</td>\n",
              "      <td>1.3</td>\n",
              "      <td>2.3</td>\n",
              "    </tr>\n",
              "    <tr>\n",
              "      <th>2019-12-28</th>\n",
              "      <td>17.8</td>\n",
              "      <td>76.0</td>\n",
              "      <td>11.3</td>\n",
              "      <td>29.8</td>\n",
              "      <td>2.9</td>\n",
              "      <td>4.4</td>\n",
              "    </tr>\n",
              "    <tr>\n",
              "      <th>2019-12-29</th>\n",
              "      <td>15.0</td>\n",
              "      <td>45.0</td>\n",
              "      <td>-2.7</td>\n",
              "      <td>30.0</td>\n",
              "      <td>10.6</td>\n",
              "      <td>15.3</td>\n",
              "    </tr>\n",
              "    <tr>\n",
              "      <th>2019-12-30</th>\n",
              "      <td>18.9</td>\n",
              "      <td>40.0</td>\n",
              "      <td>-2.0</td>\n",
              "      <td>30.2</td>\n",
              "      <td>6.2</td>\n",
              "      <td>8.9</td>\n",
              "    </tr>\n",
              "    <tr>\n",
              "      <th>2019-12-31</th>\n",
              "      <td>25.0</td>\n",
              "      <td>34.0</td>\n",
              "      <td>-1.3</td>\n",
              "      <td>30.0</td>\n",
              "      <td>9.8</td>\n",
              "      <td>14.4</td>\n",
              "    </tr>\n",
              "  </tbody>\n",
              "</table>\n",
              "<p>361 rows × 6 columns</p>\n",
              "</div>"
            ],
            "text/plain": [
              "            Average temperature(°F)  ...  Average gustspeed(mph)\n",
              "date                                 ...                        \n",
              "2019-01-01                      2.4  ...                     0.4\n",
              "2019-01-02                     13.7  ...                     0.7\n",
              "2019-01-03                     31.9  ...                     5.1\n",
              "2019-01-04                     44.0  ...                    13.8\n",
              "2019-01-05                     43.7  ...                     9.4\n",
              "...                             ...  ...                     ...\n",
              "2019-12-27                     17.0  ...                     2.3\n",
              "2019-12-28                     17.8  ...                     4.4\n",
              "2019-12-29                     15.0  ...                    15.3\n",
              "2019-12-30                     18.9  ...                     8.9\n",
              "2019-12-31                     25.0  ...                    14.4\n",
              "\n",
              "[361 rows x 6 columns]"
            ]
          },
          "metadata": {
            "tags": []
          },
          "execution_count": 24
        }
      ]
    },
    {
      "cell_type": "code",
      "metadata": {
        "id": "EEHWqSRQceEb"
      },
      "source": [
        "#final dataframe for creating model\n",
        "final_weather_2019=weather_2019_remove_df.drop(['Average dewpoint(°F)','Average gustspeed(mph)'], axis=1)"
      ],
      "execution_count": null,
      "outputs": []
    },
    {
      "cell_type": "code",
      "metadata": {
        "id": "_csMG87MiBm_",
        "outputId": "dbdbdea1-260b-4eaa-8030-e961b2c7a458",
        "colab": {
          "base_uri": "https://localhost:8080/",
          "height": 444
        }
      },
      "source": [
        ""
      ],
      "execution_count": null,
      "outputs": [
        {
          "output_type": "execute_result",
          "data": {
            "text/html": [
              "<div>\n",
              "<style scoped>\n",
              "    .dataframe tbody tr th:only-of-type {\n",
              "        vertical-align: middle;\n",
              "    }\n",
              "\n",
              "    .dataframe tbody tr th {\n",
              "        vertical-align: top;\n",
              "    }\n",
              "\n",
              "    .dataframe thead th {\n",
              "        text-align: right;\n",
              "    }\n",
              "</style>\n",
              "<table border=\"1\" class=\"dataframe\">\n",
              "  <thead>\n",
              "    <tr style=\"text-align: right;\">\n",
              "      <th></th>\n",
              "      <th>Average temperature(°F)</th>\n",
              "      <th>Average humidity(°%)</th>\n",
              "      <th>Average barometer(in.)</th>\n",
              "      <th>Average windspeed(mph)</th>\n",
              "    </tr>\n",
              "    <tr>\n",
              "      <th>date</th>\n",
              "      <th></th>\n",
              "      <th></th>\n",
              "      <th></th>\n",
              "      <th></th>\n",
              "    </tr>\n",
              "  </thead>\n",
              "  <tbody>\n",
              "    <tr>\n",
              "      <th>2019-01-01</th>\n",
              "      <td>2.4</td>\n",
              "      <td>67.0</td>\n",
              "      <td>30.4</td>\n",
              "      <td>0.2</td>\n",
              "    </tr>\n",
              "    <tr>\n",
              "      <th>2019-01-02</th>\n",
              "      <td>13.7</td>\n",
              "      <td>57.0</td>\n",
              "      <td>30.3</td>\n",
              "      <td>0.4</td>\n",
              "    </tr>\n",
              "    <tr>\n",
              "      <th>2019-01-03</th>\n",
              "      <td>31.9</td>\n",
              "      <td>45.0</td>\n",
              "      <td>30.0</td>\n",
              "      <td>3.3</td>\n",
              "    </tr>\n",
              "    <tr>\n",
              "      <th>2019-01-04</th>\n",
              "      <td>44.0</td>\n",
              "      <td>24.0</td>\n",
              "      <td>29.8</td>\n",
              "      <td>10.0</td>\n",
              "    </tr>\n",
              "    <tr>\n",
              "      <th>2019-01-05</th>\n",
              "      <td>43.7</td>\n",
              "      <td>25.0</td>\n",
              "      <td>29.8</td>\n",
              "      <td>6.4</td>\n",
              "    </tr>\n",
              "    <tr>\n",
              "      <th>...</th>\n",
              "      <td>...</td>\n",
              "      <td>...</td>\n",
              "      <td>...</td>\n",
              "      <td>...</td>\n",
              "    </tr>\n",
              "    <tr>\n",
              "      <th>2019-12-27</th>\n",
              "      <td>17.0</td>\n",
              "      <td>70.0</td>\n",
              "      <td>30.0</td>\n",
              "      <td>1.3</td>\n",
              "    </tr>\n",
              "    <tr>\n",
              "      <th>2019-12-28</th>\n",
              "      <td>17.8</td>\n",
              "      <td>76.0</td>\n",
              "      <td>29.8</td>\n",
              "      <td>2.9</td>\n",
              "    </tr>\n",
              "    <tr>\n",
              "      <th>2019-12-29</th>\n",
              "      <td>15.0</td>\n",
              "      <td>45.0</td>\n",
              "      <td>30.0</td>\n",
              "      <td>10.6</td>\n",
              "    </tr>\n",
              "    <tr>\n",
              "      <th>2019-12-30</th>\n",
              "      <td>18.9</td>\n",
              "      <td>40.0</td>\n",
              "      <td>30.2</td>\n",
              "      <td>6.2</td>\n",
              "    </tr>\n",
              "    <tr>\n",
              "      <th>2019-12-31</th>\n",
              "      <td>25.0</td>\n",
              "      <td>34.0</td>\n",
              "      <td>30.0</td>\n",
              "      <td>9.8</td>\n",
              "    </tr>\n",
              "  </tbody>\n",
              "</table>\n",
              "<p>361 rows × 4 columns</p>\n",
              "</div>"
            ],
            "text/plain": [
              "            Average temperature(°F)  ...  Average windspeed(mph)\n",
              "date                                 ...                        \n",
              "2019-01-01                      2.4  ...                     0.2\n",
              "2019-01-02                     13.7  ...                     0.4\n",
              "2019-01-03                     31.9  ...                     3.3\n",
              "2019-01-04                     44.0  ...                    10.0\n",
              "2019-01-05                     43.7  ...                     6.4\n",
              "...                             ...  ...                     ...\n",
              "2019-12-27                     17.0  ...                     1.3\n",
              "2019-12-28                     17.8  ...                     2.9\n",
              "2019-12-29                     15.0  ...                    10.6\n",
              "2019-12-30                     18.9  ...                     6.2\n",
              "2019-12-31                     25.0  ...                     9.8\n",
              "\n",
              "[361 rows x 4 columns]"
            ]
          },
          "metadata": {
            "tags": []
          },
          "execution_count": 27
        }
      ]
    },
    {
      "cell_type": "code",
      "metadata": {
        "id": "c6d-BXrciFkV"
      },
      "source": [
        "final_weather_2019.to_excel(\"final_weather_2019.xlsx\")"
      ],
      "execution_count": null,
      "outputs": []
    },
    {
      "cell_type": "code",
      "metadata": {
        "id": "7kz6_T-_ixyn"
      },
      "source": [
        ""
      ],
      "execution_count": null,
      "outputs": []
    }
  ]
}