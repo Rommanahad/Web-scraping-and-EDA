{
  "nbformat": 4,
  "nbformat_minor": 0,
  "metadata": {
    "colab": {
      "name": "Checking for heterosecdasticity and autocorrelation",
      "provenance": [],
      "authorship_tag": "ABX9TyOn+AudQC378/EXWjHMg2Bd",
      "include_colab_link": true
    },
    "kernelspec": {
      "name": "python3",
      "display_name": "Python 3"
    }
  },
  "cells": [
    {
      "cell_type": "markdown",
      "metadata": {
        "id": "view-in-github",
        "colab_type": "text"
      },
      "source": [
        "<a href=\"https://colab.research.google.com/github/Rommanahad/Web-scraping-and-EDA/blob/main/Checking_for_heterosecdasticity_and_autocorrelation.ipynb\" target=\"_parent\"><img src=\"https://colab.research.google.com/assets/colab-badge.svg\" alt=\"Open In Colab\"/></a>"
      ]
    },
    {
      "cell_type": "code",
      "metadata": {
        "id": "s5XEHgr3jcnp",
        "outputId": "35a9a177-5cb9-40d3-da52-ba0cfab5762f",
        "colab": {
          "base_uri": "https://localhost:8080/"
        }
      },
      "source": [
        "import numpy as np\n",
        "import pandas as pd\n",
        "import seaborn as sns\n",
        "from scipy import stats\n",
        "import matplotlib.pyplot as plt\n",
        "\n",
        "import statsmodels.api as sm\n",
        "from statsmodels.stats import diagnostic as diag\n",
        "from statsmodels.stats.outliers_influence import variance_inflation_factor\n",
        "\n",
        "from sklearn.linear_model import LinearRegression\n",
        "from sklearn.model_selection import train_test_split\n",
        "from sklearn.metrics import mean_squared_error, r2_score, mean_absolute_error"
      ],
      "execution_count": null,
      "outputs": [
        {
          "output_type": "stream",
          "text": [
            "/usr/local/lib/python3.6/dist-packages/statsmodels/tools/_testing.py:19: FutureWarning: pandas.util.testing is deprecated. Use the functions in the public API at pandas.testing instead.\n",
            "  import pandas.util.testing as tm\n"
          ],
          "name": "stderr"
        }
      ]
    },
    {
      "cell_type": "code",
      "metadata": {
        "id": "R1cnvIXPjpiM"
      },
      "source": [
        "final_weather_2019 = pd.read_excel('/content/final_weather_2019.xlsx')"
      ],
      "execution_count": null,
      "outputs": []
    },
    {
      "cell_type": "code",
      "metadata": {
        "id": "D5rs4Wb1jt6x"
      },
      "source": [
        "final_weather_2019=final_weather_2019.set_index('date')"
      ],
      "execution_count": null,
      "outputs": []
    },
    {
      "cell_type": "code",
      "metadata": {
        "id": "3P4SaHV5jvon",
        "outputId": "6c7f88f7-6564-4297-ffad-365e757267a1",
        "colab": {
          "base_uri": "https://localhost:8080/"
        }
      },
      "source": [
        "X = final_weather_2019.drop('Average temperature(°F)', axis = 1)\n",
        "Y = final_weather_2019[['Average temperature(°F)']]\n",
        "\n",
        "# Split X and y into X_\n",
        "X_train, X_test, y_train, y_test = train_test_split(X, Y, test_size=0.20, random_state=1)\n",
        "\n",
        "# create a Linear Regression model object\n",
        "regression_model = LinearRegression()\n",
        "\n",
        "# pass through the X_train & y_train data set\n",
        "regression_model.fit(X_train, y_train)"
      ],
      "execution_count": null,
      "outputs": [
        {
          "output_type": "execute_result",
          "data": {
            "text/plain": [
              "LinearRegression(copy_X=True, fit_intercept=True, n_jobs=None, normalize=False)"
            ]
          },
          "metadata": {
            "tags": []
          },
          "execution_count": 13
        }
      ]
    },
    {
      "cell_type": "code",
      "metadata": {
        "id": "t2QHiHJBkYao",
        "outputId": "dc7e0fdc-f0fc-4863-dad1-a7304cdb1c0f",
        "colab": {
          "base_uri": "https://localhost:8080/"
        }
      },
      "source": [
        "intercept = regression_model.intercept_[0]\n",
        "coefficent = regression_model.coef_[0][0]\n",
        "\n",
        "print(\"The intercept for our model is {:.4}\".format(intercept))\n",
        "print('-'*100)\n",
        "\n",
        "# loop through the dictionary and print the data\n",
        "for coef in zip(X.columns, regression_model.coef_[0]):\n",
        "    print(\"The Coefficient for {} is {:.2}\".format(coef[0],coef[1]))"
      ],
      "execution_count": null,
      "outputs": [
        {
          "output_type": "stream",
          "text": [
            "The intercept for our model is 1.227e+03\n",
            "----------------------------------------------------------------------------------------------------\n",
            "The Coefficient for Average humidity(°%) is -0.43\n",
            "The Coefficient for Average barometer(in.) is -3.9e+01\n",
            "The Coefficient for Average windspeed(mph) is -2.3\n"
          ],
          "name": "stdout"
        }
      ]
    },
    {
      "cell_type": "code",
      "metadata": {
        "id": "3KzWnINXlUXb",
        "outputId": "da632775-85ad-438a-cc32-299a0d760e35",
        "colab": {
          "base_uri": "https://localhost:8080/"
        }
      },
      "source": [
        "# Get multiple predictions\n",
        "y_predict = regression_model.predict(X_test)\n",
        "\n",
        "# Show the first 5 predictions\n",
        "y_predict[:5]"
      ],
      "execution_count": null,
      "outputs": [
        {
          "output_type": "execute_result",
          "data": {
            "text/plain": [
              "array([[32.55505651],\n",
              "       [33.45946197],\n",
              "       [49.83970127],\n",
              "       [54.1913715 ],\n",
              "       [52.51361997]])"
            ]
          },
          "metadata": {
            "tags": []
          },
          "execution_count": 15
        }
      ]
    },
    {
      "cell_type": "code",
      "metadata": {
        "id": "urm3Y_QAlnhV"
      },
      "source": [
        "# define our intput\n",
        "X2 = sm.add_constant(X)\n",
        "\n",
        "# create a OLS model\n",
        "model = sm.OLS(Y, X2)\n",
        "\n",
        "# fit the data\n",
        "est = model.fit()"
      ],
      "execution_count": null,
      "outputs": []
    },
    {
      "cell_type": "code",
      "metadata": {
        "id": "o5HYQbszP_TA",
        "outputId": "eed91d25-fa7c-456a-8d9e-5bd0b3d29084",
        "colab": {
          "base_uri": "https://localhost:8080/"
        }
      },
      "source": [
        "# Run the White's test\n",
        "_, pval, __, f_pval = diag.het_white(est.resid, est.model.exog, retres = False)\n",
        "print(pval, f_pval)\n",
        "print('-'*100)\n",
        "\n",
        "# print the results of the test\n",
        "if pval > 0.05:\n",
        "    print(\"For the White's Test\")\n",
        "    print(\"The p-value was {:.4}\".format(pval))\n",
        "    print(\"We fail to reject the null hypthoesis, so there is no heterosecdasticity. \\n\")\n",
        "    \n",
        "else:\n",
        "    print(\"For the White's Test\")\n",
        "    print(\"The p-value was {:.4}\".format(pval))\n",
        "    print(\"We reject the null hypthoesis, so there is heterosecdasticity. \\n\")\n",
        "\n",
        "# Run the Breusch-Pagan test\n",
        "_, pval, __, f_pval = diag.het_breuschpagan(est.resid, est.model.exog)\n",
        "print(pval, f_pval)\n",
        "print('-'*100)\n",
        "\n",
        "# print the results of the test\n",
        "if pval > 0.05:\n",
        "    print(\"For the Breusch-Pagan's Test\")\n",
        "    print(\"The p-value was {:.4}\".format(pval))\n",
        "    print(\"We fail to reject the null hypthoesis, so there is no heterosecdasticity.\")\n",
        "\n",
        "else:\n",
        "    print(\"For the Breusch-Pagan's Test\")\n",
        "    print(\"The p-value was {:.4}\".format(pval))\n",
        "    print(\"We reject the null hypthoesis, so there is heterosecdasticity.\")"
      ],
      "execution_count": null,
      "outputs": [
        {
          "output_type": "stream",
          "text": [
            "0.0009610437579143606 0.0007575130982396532\n",
            "----------------------------------------------------------------------------------------------------\n",
            "For the White's Test\n",
            "The p-value was 0.000961\n",
            "We reject the null hypthoesis, so there is heterosecdasticity. \n",
            "\n",
            "0.00019834471489597142 0.0001670397974107144\n",
            "----------------------------------------------------------------------------------------------------\n",
            "For the Breusch-Pagan's Test\n",
            "The p-value was 0.0001983\n",
            "We reject the null hypthoesis, so there is heterosecdasticity.\n"
          ],
          "name": "stdout"
        }
      ]
    },
    {
      "cell_type": "code",
      "metadata": {
        "id": "tOLhLVZFPx31",
        "outputId": "febbf053-d8f0-4bc0-be26-405782839cf4",
        "colab": {
          "base_uri": "https://localhost:8080/",
          "height": 370
        }
      },
      "source": [
        "from statsmodels.stats.stattools import durbin_watson\n",
        "\n",
        "# calculate the lag, optional\n",
        "lag = min(10, (len(X)//5))\n",
        "print('The number of lags will be {}'.format(lag))\n",
        "print('-'*100)\n",
        "\n",
        "# run the Ljung-Box test for no autocorrelation of residuals\n",
        "# test_results = diag.acorr_breusch_godfrey(est, nlags = lag, store = True)\n",
        "test_results = diag.acorr_ljungbox(est.resid, lags = lag)\n",
        "\n",
        "# grab the p-values and the test statistics\n",
        "ibvalue, p_val = test_results\n",
        "\n",
        "# print the results of the test\n",
        "if min(p_val) > 0.05:\n",
        "    print(\"The lowest p-value found was {:.4}\".format(min(p_val)))\n",
        "    print(\"We fail to reject the null hypthoesis, so there is no autocorrelation.\")\n",
        "    print('-'*100)\n",
        "else:\n",
        "    print(\"The lowest p-value found was {:.4}\".format(min(p_val)))\n",
        "    print(\"We reject the null hypthoesis, so there is autocorrelation.\")\n",
        "    print('-'*100)\n",
        "\n",
        "# plot autocorrelation\n",
        "sm.graphics.tsa.plot_acf(est.resid)\n",
        "plt.show()"
      ],
      "execution_count": null,
      "outputs": [
        {
          "output_type": "stream",
          "text": [
            "The number of lags will be 10\n",
            "----------------------------------------------------------------------------------------------------\n",
            "The lowest p-value found was 5.402e-230\n",
            "We reject the null hypthoesis, so there is autocorrelation.\n",
            "----------------------------------------------------------------------------------------------------\n"
          ],
          "name": "stdout"
        },
        {
          "output_type": "display_data",
          "data": {
            "image/png": "[encoded data removed]",
            "text/plain": [
              "<Figure size 432x288 with 1 Axes>"
            ]
          },
          "metadata": {
            "tags": [],
            "needs_background": "light"
          }
        }
      ]
    },
    {
      "cell_type": "code",
      "metadata": {
        "id": "HqfNtgy2Px_5"
      },
      "source": [
        ""
      ],
      "execution_count": null,
      "outputs": []
    },
    {
      "cell_type": "code",
      "metadata": {
        "id": "QkUuQc-_l43a",
        "outputId": "c6af8522-6094-4058-dbe4-6b5e228ece60",
        "colab": {
          "base_uri": "https://localhost:8080/",
          "height": 296
        }
      },
      "source": [
        "import pylab\n",
        "\n",
        "# check for the normality of the residuals\n",
        "sm.qqplot(est.resid, line='s')\n",
        "pylab.show()\n",
        "\n",
        "# also check that the mean of the residuals is approx. 0.\n",
        "mean_residuals = sum(est.resid)/ len(est.resid)\n",
        "print(\"The mean of the residuals is {:.4}\".format(mean_residuals))"
      ],
      "execution_count": null,
      "outputs": [
        {
          "output_type": "display_data",
          "data": {
            "image/png": "[encoded data removed]",
            "text/plain": [
              "<Figure size 432x288 with 1 Axes>"
            ]
          },
          "metadata": {
            "tags": [],
            "needs_background": "light"
          }
        },
        {
          "output_type": "stream",
          "text": [
            "The mean of the residuals is -1.632e-12\n"
          ],
          "name": "stdout"
        }
      ]
    }
  ]
}